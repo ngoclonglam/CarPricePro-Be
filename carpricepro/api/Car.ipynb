{
  "cells": [
    {
      "cell_type": "markdown",
      "metadata": {
        "id": "eSwfZxnH_Jqg"
      },
      "source": [
        "# Thư Viện\n"
      ]
    },
    {
      "cell_type": "code",
      "execution_count": 1,
      "metadata": {
        "id": "ADkMlD_M87Tg"
      },
      "outputs": [],
      "source": [
        "import numpy as np\n",
        "import pandas as pd\n",
        "import seaborn as sns\n",
        "import matplotlib.pyplot as plt\n",
        "import warnings\n",
        "warnings.filterwarnings(\"ignore\")\n",
        "\n",
        "from sklearn.model_selection import train_test_split, cross_val_score\n",
        "from sklearn.preprocessing import StandardScaler\n",
        "# from sklearn.metrics import r2_score, mean_absolute_error, mean_squared_error\n",
        "\n",
        "from sklearn.linear_model import LinearRegression\n",
        "from sklearn.linear_model import Ridge"
      ]
    },
    {
      "cell_type": "markdown",
      "metadata": {
        "id": "ZdbSHCjz_Ne7"
      },
      "source": [
        "# Data"
      ]
    },
    {
      "cell_type": "code",
      "execution_count": 2,
      "metadata": {
        "id": "zWGUWiu_9fLQ"
      },
      "outputs": [],
      "source": [
        "df = pd.read_csv(\"C:/Users/Long/Documents/GitHub/CarPricePro/CarPricePro-Be/carpricepro/api/Book1.csv\")"
      ]
    },
    {
      "cell_type": "code",
      "execution_count": 3,
      "metadata": {
        "colab": {
          "base_uri": "https://localhost:8080/"
        },
        "id": "GtxnPTZfyWal",
        "outputId": "5c6eafcc-a8e1-4489-8c97-03f7c3827380"
      },
      "outputs": [
        {
          "name": "stdout",
          "output_type": "stream",
          "text": [
            "<class 'pandas.core.frame.DataFrame'>\n",
            "RangeIndex: 1151 entries, 0 to 1150\n",
            "Data columns (total 27 columns):\n",
            " #   Column                               Non-Null Count  Dtype  \n",
            "---  ------                               --------------  -----  \n",
            " 0   Model Xe                             1151 non-null   object \n",
            " 1   Năm Sản Xuất                         1151 non-null   int64  \n",
            " 2   Gía Tiền                             1151 non-null   int64  \n",
            " 3   Xuất Xứ                              1151 non-null   object \n",
            " 4   Tình Trạng                           1151 non-null   int64  \n",
            " 5   Dòng Xe                              1151 non-null   object \n",
            " 6   Số KM Đã Đi                          1151 non-null   int64  \n",
            " 7   Màu Ngoại Thất                       1151 non-null   object \n",
            " 8   Màu Nội Thất                         1151 non-null   object \n",
            " 9   Số Chỗ Ngồi                          1151 non-null   int64  \n",
            " 10  Động Cơ                              1151 non-null   object \n",
            " 11  Hệ Thống Nạp Nhiên Liệu              1151 non-null   object \n",
            " 12  Hộp Số                               1151 non-null   object \n",
            " 13  Dẫn Động                             1151 non-null   object \n",
            " 14  Thành Phố MPG                        1151 non-null   int64  \n",
            " 15  Cao Tốc MPG                          1151 non-null   int64  \n",
            " 16  Chiều Dài Cơ Sở                      1151 non-null   float64\n",
            " 17  Chiều Dài Xe                         1151 non-null   float64\n",
            " 18  Chiều Rộng Xe                        1151 non-null   float64\n",
            " 19  Chiều Cao Xe                         1151 non-null   float64\n",
            " 20  Độ Nặng                              1151 non-null   int64  \n",
            " 21  Kích Thước Động Cơ                   1151 non-null   int64  \n",
            " 22  Tỷ Số Đường Kính Xy Lanh & Pít Tông  1151 non-null   float64\n",
            " 23  Stroke                               1151 non-null   float64\n",
            " 24  Mã Lực                               1151 non-null   int64  \n",
            " 25  Số Vòng Quay Cực Đại                 1151 non-null   int64  \n",
            " 26  Địa Chỉ                              1151 non-null   object \n",
            "dtypes: float64(6), int64(11), object(10)\n",
            "memory usage: 242.9+ KB\n"
          ]
        }
      ],
      "source": [
        "df.info()"
      ]
    },
    {
      "cell_type": "markdown",
      "metadata": {
        "id": "dW5J8SZ9_Pjo"
      },
      "source": [
        "# Data Processing\n"
      ]
    },
    {
      "cell_type": "markdown",
      "metadata": {
        "id": "uuVB62G3Ai2Z"
      },
      "source": [
        "\n",
        "Dòng code này tạo một cột mới trong DataFrame có tên là 'Hãng Xe', chứa thông tin về hãng xe từ cột 'Model Xe', thông qua việc tách chuỗi và lấy phần tử đầu tiên."
      ]
    },
    {
      "cell_type": "code",
      "execution_count": 4,
      "metadata": {
        "id": "yC0ajpnmB2gC"
      },
      "outputs": [],
      "source": [
        "df['Hãng Xe'] = df['Model Xe'].str.split(' ', n = 1).str[0]"
      ]
    },
    {
      "cell_type": "markdown",
      "metadata": {
        "id": "iXL9aZ8YAmbL"
      },
      "source": [
        "Dòng code này loại bỏ các cột chỉ định trong danh sách columns_to_drop khỏi DataFrame df, và sau đó gán lại kết quả cho biến df."
      ]
    },
    {
      "cell_type": "code",
      "execution_count": 5,
      "metadata": {
        "id": "mtPV4jCyCeF4"
      },
      "outputs": [],
      "source": [
        "columns_to_drop = [0, 3, 7, 11, 26]\n",
        "df = df.drop(columns=df.columns[columns_to_drop])"
      ]
    },
    {
      "cell_type": "markdown",
      "metadata": {
        "id": "_KjCDgzJAqk4"
      },
      "source": [
        "Dòng code này thay thế nội dung của cột \"Động Cơ\" trong DataFrame df. Cụ thể, nó thay thế một chuỗi trong cột \"Động Cơ\" bằng một chuỗi khác, sử dụng biểu thức chính quy (regex). Trong trường hợp này, các loại động cơ như \"Diesel\", \"Điện\", \"Xăng\", \"Nhiên liệu linh hoạt\" và \"Hybrid\" sẽ được thay thế bằng chính chúng (sử dụng \\1)."
      ]
    },
    {
      "cell_type": "code",
      "execution_count": 6,
      "metadata": {
        "id": "2zdD3UhqM5qM"
      },
      "outputs": [],
      "source": [
        "df[\"Động Cơ\"] = df[\"Động Cơ\"].str.replace(r'(Diesel|Điện|Xăng|Nhiên liệu linh hoạt|Hybrid).*', r'\\1', regex=True)"
      ]
    },
    {
      "cell_type": "code",
      "execution_count": 7,
      "metadata": {
        "id": "YTOsO8rbFKGQ"
      },
      "outputs": [],
      "source": [
        "original_df = df.copy()"
      ]
    },
    {
      "cell_type": "code",
      "execution_count": 8,
      "metadata": {
        "colab": {
          "base_uri": "https://localhost:8080/"
        },
        "id": "dL66joUkEVSe",
        "outputId": "2fc8f04e-7ba0-4db4-9667-73628af16e0f"
      },
      "outputs": [
        {
          "name": "stdout",
          "output_type": "stream",
          "text": [
            "Mảng kiểu chú giải:\n",
            "Dòng Xe: {0: 'Convertible', 1: 'Coupe', 2: 'Hatchback', 3: 'Sedan', 4: 'Suv-crossover', 5: 'Truck', 6: 'Van-minivan', 7: 'Wagon'}\n",
            "Màu Nội Thất: {0: 'Amg cranberry đỏ/đen', 1: 'Amg lụa màu be', 2: 'Atelier châu âu tối', 3: 'Be', 4: 'Bánh quy', 5: 'Bạc', 6: 'Bắp ngô màu be', 7: 'Caramel tráng men', 8: 'Cát', 9: 'Da thú', 10: 'Da trắng', 11: 'Da đen, cao cấp', 12: 'Diesel xám/đen', 13: 'Ferrari màu đỏ', 14: 'Gốm sứ', 15: 'Gỗ mun', 16: 'Java', 17: 'Khối clth', 18: 'Lâu đài', 19: 'Lụa/màu be', 20: 'Macchiato màu be/espresso nâu', 21: 'Macchiato màu be/xám magma', 22: 'Marrakesh nâu', 23: 'Muội than', 24: 'Màu be canberra', 25: 'Màu xám magma/đen', 26: 'Màu xám titan', 27: 'Màu xám tro trung bình', 28: 'Màu xám đen', 29: 'Màu xám đất trung bình', 30: 'Màu xám đậm của palazzo', 31: 'Màu đen nhạt', 32: 'Máy bay phản lực', 33: 'Máy bay phản lực đen', 34: 'Mã não có vân đen', 35: 'Nero', 36: 'Nero vũ trụ', 37: 'Ngà voi', 38: 'Nâu nâu/đen', 39: 'Onyx đen / đá phiến đen trung bình', 40: 'Rượu cognac', 41: 'Sh', 42: 'Tacora đỏ', 43: 'Than chì', 44: 'Than củi', 45: 'Than đen', 46: 'Thiếc vừa', 47: 'Titan đen', 48: 'Tro', 49: 'Trắng', 50: 'Tân', 51: 'Tóc vàng', 52: 'Unknown', 53: 'Vải đen', 54: 'Xám', 55: 'Xám 2 tông', 56: 'Xám hai tông màu', 57: 'Đen', 58: 'Đen carbon w/ cam mclaren', 59: 'Đen carbon/đỏ harissa', 60: 'Đen toàn cầu', 61: 'Đen tuyền/bạc anderson đậm', 62: 'Đen tuyền/titan đen', 63: 'Đen xám', 64: 'Đen/hợp kim', 65: 'Đen/loại trừ. khâu', 66: 'Đen/than chì', 67: 'Đá lửa vừa', 68: 'Đá nhẹ vừa', 69: 'Đá phiến tối trung bình', 70: 'Đá phiến đen', 71: 'Đá sa thạch trung bình w/đen', 72: 'Đá trung bình', 73: 'Đá xám đen / nhạt', 74: 'Địa ngục đen'}\n",
            "Động Cơ: {0: 'Diesel', 1: 'Hybrid', 2: 'Nhiên liệu linh hoạt', 3: 'Xăng', 4: 'Điện'}\n",
            "Hộp Số: {0: 'Số tay', 1: 'Số tự động'}\n",
            "Dẫn Động: {0: 'AWD - 4 bánh toàn thời gian', 1: 'FWD - Dẫn động cầu trước', 2: 'RFD - Dẫn động cầu sau'}\n",
            "Hãng Xe: {0: 'Acura', 1: 'Alfa', 2: 'Aston', 3: 'Audi', 4: 'BMW', 5: 'Bentley', 6: 'Buick', 7: 'Cadillac', 8: 'Chevrolet', 9: 'Chrysler', 10: 'Dodge', 11: 'FIAT', 12: 'Ferrari', 13: 'Ford', 14: 'GMC', 15: 'Genesis', 16: 'Honda', 17: 'Hyundai', 18: 'INFINITI', 19: 'Jaguar', 20: 'Jeep', 21: 'Kia', 22: 'Lamborghini', 23: 'Land', 24: 'Lexus', 25: 'Lincoln', 26: 'MAZDA', 27: 'MINI', 28: 'Maserati', 29: 'McLaren', 30: 'Mercedes-Benz', 31: 'Mitsubishi', 32: 'Nissan', 33: 'Pontiac', 34: 'Porsche', 35: 'RAM', 36: 'Rolls-Royce', 37: 'Saturn', 38: 'Scion', 39: 'Subaru', 40: 'Tesla', 41: 'Toyota', 42: 'Volkswagen', 43: 'Volvo', 44: 'smart'}\n"
          ]
        }
      ],
      "source": [
        "# Sử dụng mã hóa số nguyên cho các thuộc tính phân loại\n",
        "col_cat = ['Dòng Xe', 'Màu Nội Thất', 'Động Cơ', 'Hộp Số', 'Dẫn Động', 'Hãng Xe']\n",
        "encoding_mapping = {}  # Tạo từ điển để ánh xạ giá trị gốc và giá trị mã hóa\n",
        "for column in col_cat:\n",
        "    encoding_mapping[column] = dict(enumerate(original_df[column].astype('category').cat.categories))\n",
        "    original_df[column] = original_df[column].astype('category').cat.codes\n",
        "\n",
        "# Tạo mảng kiểu chú giải\n",
        "legend_array = {}\n",
        "for column, mapping in encoding_mapping.items():\n",
        "    legend_array[column] = {code: value for code, value in mapping.items()}\n",
        "\n",
        "\n",
        "# Xuất kết quả\n",
        "print(\"Mảng kiểu chú giải:\")\n",
        "for column, mapping in legend_array.items():\n",
        "    print(f\"{column}: {mapping}\")"
      ]
    },
    {
      "cell_type": "markdown",
      "metadata": {
        "id": "FEmnDbqV_VIq"
      },
      "source": [
        "# Choosing Feature\n"
      ]
    },
    {
      "cell_type": "code",
      "execution_count": 9,
      "metadata": {
        "colab": {
          "base_uri": "https://localhost:8080/",
          "height": 862
        },
        "id": "Ar9-Pl3_FakZ",
        "outputId": "73d279a7-fc09-40f2-9702-4ddb4e1103c9"
      },
      "outputs": [],
      "source": [
        "# # Ma trận tương quan\n",
        "# FONT = {'fontsize':30, 'fontstyle':'normal', 'fontfamily':'Georgia', 'backgroundcolor':'#B41B10', 'color':'#E4C09E'}\n",
        "# plt.figure(figsize=(13,8), dpi=500)\n",
        "# sns.heatmap(round(original_df.corr(),2), annot=True, cmap='gist_heat_r')\n",
        "# plt.title(\"Tương quan giữa các thuộc tính\", pad=30, fontdict=FONT)\n",
        "# plt.show()"
      ]
    },
    {
      "cell_type": "markdown",
      "metadata": {
        "id": "S-QvsEsM_gZD"
      },
      "source": [
        "# Model\n"
      ]
    },
    {
      "cell_type": "markdown",
      "metadata": {
        "id": "YruM3cSuIP7J"
      },
      "source": [
        "## Train:Test"
      ]
    },
    {
      "cell_type": "code",
      "execution_count": 10,
      "metadata": {
        "id": "mR0QucMfLJ5s"
      },
      "outputs": [],
      "source": [
        "selected_columns_X = ['Chiều Dài Cơ Sở', 'Số Chỗ Ngồi', 'Chiều Dài Xe', 'Chiều Cao Xe', 'Hộp Số']\n",
        "selected_column_y = 'Gía Tiền'\n",
        "\n",
        "# Create X & y\n",
        "X = original_df[selected_columns_X]\n",
        "y = original_df[selected_column_y]"
      ]
    },
    {
      "cell_type": "code",
      "execution_count": 11,
      "metadata": {
        "id": "DphuXIrYHMid"
      },
      "outputs": [],
      "source": [
        "X_train, X_test, y_train, y_test = train_test_split(X, y, test_size=0.2, random_state=42)"
      ]
    },
    {
      "cell_type": "code",
      "execution_count": 12,
      "metadata": {
        "id": "1jafddzmHNs6"
      },
      "outputs": [],
      "source": [
        "# def rmse_cv(model):\n",
        "#     rmse = np.sqrt(-cross_val_score(model, X, y, scoring=\"neg_mean_squared_error\", cv=5)).mean()\n",
        "#     return rmse\n",
        "\n",
        "\n",
        "# def evaluation(y, predictions):\n",
        "#     mae = mean_absolute_error(y, predictions)\n",
        "#     mse = mean_squared_error(y, predictions)\n",
        "#     rmse = np.sqrt(mean_squared_error(y, predictions))\n",
        "#     r_squared = r2_score(y, predictions)\n",
        "#     return mae, mse, rmse, r_squared"
      ]
    },
    {
      "cell_type": "code",
      "execution_count": 13,
      "metadata": {
        "id": "OvjSO5SdHQ7g"
      },
      "outputs": [],
      "source": [
        "models = pd.DataFrame(columns=[\"Model\",\"MAE\",\"MSE\",\"RMSE\",\"R2 Score\",\"RMSE (Cross-Validation)\"])"
      ]
    },
    {
      "cell_type": "markdown",
      "metadata": {
        "id": "brVzaCwkIVUm"
      },
      "source": [
        "## Result\n"
      ]
    },
    {
      "cell_type": "code",
      "execution_count": 14,
      "metadata": {
        "colab": {
          "base_uri": "https://localhost:8080/"
        },
        "id": "FtMSGL_DHUNv",
        "outputId": "2fca7560-dd57-4fe4-b927-c4d1b66d3c1e"
      },
      "outputs": [],
      "source": [
        "lin_reg = LinearRegression()\n",
        "lin_reg.fit(X_train, y_train)\n",
        "predictions = lin_reg.predict(X_test)\n",
        "\n",
        "# mae, mse, rmse, r_squared = evaluation(y_test, predictions)\n",
        "# print(\"MAE:\", mae)\n",
        "# print(\"MSE:\", mse)\n",
        "# print(\"RMSE:\", rmse)\n",
        "# print(\"R2 Score:\", r_squared)\n",
        "# print(\"-\"*30)\n",
        "# rmse_cross_val = rmse_cv(lin_reg)\n",
        "# print(\"RMSE Cross-Validation:\", rmse_cross_val)\n",
        "\n",
        "# new_row = {\"Model\": \"LinearRegression\",\"MAE\": mae, \"MSE\": mse, \"RMSE\": rmse, \"R2 Score\": r_squared, \"RMSE (Cross-Validation)\": rmse_cross_val}\n",
        "# models = models.append(new_row, ignore_index=True)\n",
        "# models = pd.concat([models, new_row])"
      ]
    },
    {
      "cell_type": "code",
      "execution_count": 15,
      "metadata": {
        "colab": {
          "base_uri": "https://localhost:8080/",
          "height": 482
        },
        "id": "y1JP6dL8_0BM",
        "outputId": "70b3c4b9-5ab9-4afe-94b0-ee2b3858fd89"
      },
      "outputs": [
        {
          "data": {
            "text/plain": [
              "<Axes: xlabel='Gía Tiền', ylabel='Density'>"
            ]
          },
          "execution_count": 15,
          "metadata": {},
          "output_type": "execute_result"
        },
        {
          "data": {
            "image/png": "[encoded data removed]",
            "text/plain": [
              "<Figure size 640x480 with 1 Axes>"
            ]
          },
          "metadata": {},
          "output_type": "display_data"
        }
      ],
      "source": [
        "Y_1_pre = lin_reg.predict(X_test)\n",
        "ax1 = sns.distplot(y_test, hist = False , color='r', label = 'Actual_value')\n",
        "sns.distplot(Y_1_pre, hist = False , color='b', label = 'fitter_value', ax= ax1)"
      ]
    },
    {
      "cell_type": "code",
      "execution_count": 16,
      "metadata": {
        "colab": {
          "base_uri": "https://localhost:8080/"
        },
        "id": "TcaDbKtPJU0z",
        "outputId": "be463c99-7c4b-4be3-e149-db5028139fe7"
      },
      "outputs": [],
      "source": [
        "ridge = Ridge()\n",
        "ridge.fit(X_train, y_train)\n",
        "predictions = ridge.predict(X_test)\n",
        "\n",
        "# mae, mse, rmse, r_squared = evaluation(y_test, predictions)\n",
        "# print(\"MAE:\", mae)\n",
        "# print(\"MSE:\", mse)\n",
        "# print(\"RMSE:\", rmse)\n",
        "# print(\"R2 Score:\", r_squared)\n",
        "# print(\"-\"*30)\n",
        "# rmse_cross_val = rmse_cv(ridge)\n",
        "# print(\"RMSE Cross-Validation:\", rmse_cross_val)\n",
        "\n",
        "# new_row = {\"Model\": \"Ridge\",\"MAE\": mae, \"MSE\": mse, \"RMSE\": rmse, \"R2 Score\": r_squared, \"RMSE (Cross-Validation)\": rmse_cross_val}\n"
      ]
    },
    {
      "cell_type": "code",
      "execution_count": 17,
      "metadata": {
        "colab": {
          "base_uri": "https://localhost:8080/",
          "height": 482
        },
        "id": "GD7OKSzSAGao",
        "outputId": "e2092fea-cabd-4914-868a-b72a561ea601"
      },
      "outputs": [
        {
          "data": {
            "text/plain": [
              "<Axes: xlabel='Gía Tiền', ylabel='Density'>"
            ]
          },
          "execution_count": 17,
          "metadata": {},
          "output_type": "execute_result"
        },
        {
          "data": {
            "image/png": "[encoded data removed]",
            "text/plain": [
              "<Figure size 640x480 with 1 Axes>"
            ]
          },
          "metadata": {},
          "output_type": "display_data"
        }
      ],
      "source": [
        "Y_2_pre = ridge.predict(X_test)\n",
        "ax1 = sns.distplot(y_test, hist = False , color='r', label = 'Actual_value')\n",
        "sns.distplot(Y_2_pre, hist = False , color='b', label = 'fitter_value', ax= ax1)"
      ]
    },
    {
      "cell_type": "code",
      "execution_count": 18,
      "metadata": {
        "colab": {
          "base_uri": "https://localhost:8080/"
        },
        "id": "6ExuBrKQMXi5",
        "outputId": "b27e3b5f-24b0-4825-ceba-79711c946928"
      },
      "outputs": [
        {
          "name": "stdout",
          "output_type": "stream",
          "text": [
            "Dự đoán Gía Tiền cho điểm dữ liệu test: 822.395.290 ₫\n"
          ]
        }
      ],
      "source": [
        "# Tạo một DataFrame chứa thông tin điểm dữ liệu test\n",
        "test_data = pd.DataFrame({\n",
        "    'Chiều Dài Cơ Sở': [87],      # Thay các giá trị bằng giá trị thực tế\n",
        "    'Số Chỗ Ngồi': [6],             # Thay các giá trị bằng giá trị thực tế\n",
        "    'Chiều Dài Xe': [139],          # Thay các giá trị bằng giá trị thực tế\n",
        "    'Chiều Cao Xe': [73],           # Thay các giá trị bằng giá trị thực tế\n",
        "    'Hộp Số': [1]\n",
        "})\n",
        "\n",
        "# Dự đoán giá tiền cho điểm dữ liệu test\n",
        "import locale\n",
        "\n",
        "predicted_price = lin_reg.predict(test_data)\n",
        "locale.setlocale(locale.LC_ALL, 'vi_VN')\n",
        "predicted_price = locale.currency(int(predicted_price), grouping=True)\n",
        "predicted_price = predicted_price.replace(\",00\", \"\")\n",
        "np.set_printoptions(suppress=True)\n",
        "\n",
        "print(\"Dự đoán Gía Tiền cho điểm dữ liệu test:\", predicted_price)\n",
        "\n",
        "# Trong tệp Car.ipynb\n",
        "def predict_price(input_data):\n",
        "    test_data = pd.DataFrame({\n",
        "        'Chiều Dài Cơ Sở': [input_data['Chiều Dài Cơ Sở']],\n",
        "        'Số Chỗ Ngồi': [input_data['Số Chỗ Ngồi']],\n",
        "        'Chiều Dài Xe': [input_data['Chiều Dài Xe']],\n",
        "        'Chiều Cao Xe': [input_data['Chiều Cao Xe']],\n",
        "        'Hộp Số': [input_data['Hộp Số']]\n",
        "    })\n",
        "    \n",
        "    a = df['Chiều Dài Cơ Sở'].max()\n",
        "    b = df['Số Chỗ Ngồi'].max()\n",
        "    c = df['Chiều Dài Xe'].max()\n",
        "    d = df['Chiều Cao Xe'].max()\n",
        "    msg = 'Thông tin nhập vào không chính xác với bộ dữ liệu của chúng tôi'\n",
        "    print('1: ', a)\n",
        "    print('2: ', b)\n",
        "    print('3: ', c)\n",
        "    print('4: ', d)\n",
        "    \n",
        "    if input_data['Chiều Dài Cơ Sở'] > a or input_data['Số Chỗ Ngồi'] > b or input_data['Chiều Dài Xe'] > c or input_data['Chiều Cao Xe'] > d:\n",
        "        return msg\n",
        "      \n",
        "\n",
        "    predicted_price = lin_reg.predict(test_data)\n",
        "    locale.setlocale(locale.LC_ALL, 'vi_VN')\n",
        "    predicted_price = locale.currency(int(predicted_price), grouping=True)\n",
        "    predicted_price = predicted_price.replace(\",00\", \"\")\n",
        "    np.set_printoptions(suppress=True)\n",
        "\n",
        "    print(\"Dự đoán Gía Tiền cho điểm dữ liệu test:\", predicted_price)\n",
        "    \n",
        "    return predicted_price"
      ]
    },
    {
      "cell_type": "code",
      "execution_count": 20,
      "metadata": {},
      "outputs": [
        {
          "name": "stdout",
          "output_type": "stream",
          "text": [
            "9438.0\n"
          ]
        }
      ],
      "source": []
    }
  ],
  "metadata": {
    "accelerator": "GPU",
    "colab": {
      "provenance": []
    },
    "kernelspec": {
      "display_name": "Python 3",
      "name": "python3"
    },
    "language_info": {
      "codemirror_mode": {
        "name": "ipython",
        "version": 3
      },
      "file_extension": ".py",
      "mimetype": "text/x-python",
      "name": "python",
      "nbconvert_exporter": "python",
      "pygments_lexer": "ipython3",
      "version": "3.11.5"
    }
  },
  "nbformat": 4,
  "nbformat_minor": 0
}
